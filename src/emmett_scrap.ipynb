{
 "cells": [
  {
   "cell_type": "code",
   "execution_count": null,
   "id": "annoying-insider",
   "metadata": {},
   "outputs": [],
   "source": [
    "import pandas as pd\n",
    "import numpy as np\n",
    "\n",
    "from pandas_datareader import data as pdr\n",
    "import datetime\n",
    "\n",
    "import yfinance as yf\n",
    "\n",
    "yf.pdr_override()"
   ]
  },
  {
   "cell_type": "code",
   "execution_count": null,
   "id": "julian-effects",
   "metadata": {},
   "outputs": [],
   "source": [
    "return df"
   ]
  },
  {
   "cell_type": "code",
   "execution_count": null,
   "id": "organic-weight",
   "metadata": {},
   "outputs": [],
   "source": [
    "start_date = datetime.datetime(2018, 1,1)\n",
    "end_date = datetime.datetime(2023, 1,1)"
   ]
  },
  {
   "cell_type": "code",
   "execution_count": null,
   "id": "mounted-oriental",
   "metadata": {},
   "outputs": [],
   "source": [
    "pdr.get_data_yahoo(ticker='AAPL', start_date=start_date, end_date=end_date)"
   ]
  },
  {
   "cell_type": "code",
   "execution_count": null,
   "id": "disabled-lafayette",
   "metadata": {},
   "outputs": [],
   "source": [
    "adjusted_closes = dict{}\n",
    "for ticker in ticker_list:\n",
    "    \"\"\"\n",
    "    Want to return dataframe indexed by date for adjusted close for all tickers in ticker list\n",
    "    \"\"\"\n",
    "    \n",
    "    \n",
    "    adjusted_closes[ticker] = df_ticker['Adj Close']\n",
    "    "
   ]
  },
  {
   "cell_type": "code",
   "execution_count": null,
   "id": "greek-drill",
   "metadata": {},
   "outputs": [],
   "source": []
  },
  {
   "cell_type": "code",
   "execution_count": null,
   "id": "paperback-parade",
   "metadata": {},
   "outputs": [],
   "source": []
  },
  {
   "cell_type": "code",
   "execution_count": null,
   "id": "indie-presentation",
   "metadata": {},
   "outputs": [],
   "source": []
  },
  {
   "cell_type": "code",
   "execution_count": null,
   "id": "understanding-packet",
   "metadata": {},
   "outputs": [],
   "source": [
    "sqs_list = []\n",
    "for _ in nums:\n",
    "    sqs_list.append(sq(_))\n",
    "    \n",
    "instead --> [ sq(_) for _ in num ]"
   ]
  },
  {
   "cell_type": "code",
   "execution_count": null,
   "id": "adopted-evaluation",
   "metadata": {},
   "outputs": [],
   "source": []
  },
  {
   "cell_type": "code",
   "execution_count": null,
   "id": "institutional-footage",
   "metadata": {},
   "outputs": [],
   "source": [
    "tickers = ['AAPL', 'TSLA']\n",
    "\n",
    "aapl_df = pdr.get_data_yahoo(ticker='AAPL', start_date=start_date, end_date=end_date).loc[:, ['Adj Close'] ]\n",
    "tsla_df = pdr.get_data_yahoo(ticker='TSLA', start_date=start_date, end_date=end_date).loc[:, ['Adj Close'] ] \n",
    "\n",
    "# df = aapl_df.merge(tsla_df, how='left', suffixes=('_AAPL', '_TSLA'))"
   ]
  },
  {
   "cell_type": "code",
   "execution_count": null,
   "id": "aquatic-blackberry",
   "metadata": {},
   "outputs": [],
   "source": [
    "def portfolio(tickers: list[str,...]) -> pd.DataFrame:\n",
    "    return (pd\n",
    "            # Going to concatenate list of 1-column DataFrames indexed by identical dates\n",
    "            .concat([\n",
    "                # Request data from pandas_data_reader by ticker, returns DataFrame\n",
    "                (pdr.get_data_yahoo(ticker, start_date=start_date, end_date=end_date)\n",
    "                 # Slice DataFrame to get column, using brackets so as not to convert to Series\n",
    "                 .loc[:, ['Adj Close']]\n",
    "                 # Don't want all columns to be same, rename each to include ticker\n",
    "                 # axis=1 indicates columns renamed, rather than index/indices (axis=0)\n",
    "                 .rename({'Adj Close': f'{ticker} Adj Close'}, axis=1) \n",
    "                )\n",
    "                # define ticker to be each string in tickers parameter\n",
    "                # List Comprehension (listcomp) form: [do_something(element) for element in elements]\n",
    "                for ticker in tickers\n",
    "            ], axis=1) \n",
    "            # Specifying axis=1 because concat usually is vertical/indices (axis=0)\n",
    "            # Since all have identical indices, concatenating horizontally rather than dealing\n",
    "            # with merge\n",
    "           )\n",
    "    "
   ]
  },
  {
   "cell_type": "code",
   "execution_count": null,
   "id": "unknown-irrigation",
   "metadata": {},
   "outputs": [],
   "source": [
    "portfolio(['AAPL', 'TSLA', 'ASML'])"
   ]
  },
  {
   "cell_type": "code",
   "execution_count": 7,
   "id": "exclusive-allocation",
   "metadata": {},
   "outputs": [],
   "source": [
    "def recursion_sum(nums):\n",
    "    return nums[0] if len(nums) == 1 else nums[0]+recursion_sum(nums[1:])"
   ]
  },
  {
   "cell_type": "code",
   "execution_count": 10,
   "id": "historical-journal",
   "metadata": {},
   "outputs": [
    {
     "data": {
      "text/plain": [
       "19900"
      ]
     },
     "execution_count": 10,
     "metadata": {},
     "output_type": "execute_result"
    }
   ],
   "source": [
    "    \n",
    "    frames = [pdr.get_data_yahoo(ticker, start_date=start_date, end_date=end_date).loc[:, ['Adj Close'] ]\n",
    "              for ticker in tickers\n",
    "             ]\n",
    "    \n",
    "    return pd.concat(frames, axis=1)"
   ]
  },
  {
   "cell_type": "code",
   "execution_count": null,
   "id": "backed-frost",
   "metadata": {},
   "outputs": [],
   "source": []
  }
 ],
 "metadata": {
  "kernelspec": {
   "display_name": "Python 3",
   "language": "python",
   "name": "python3"
  },
  "language_info": {
   "codemirror_mode": {
    "name": "ipython",
    "version": 3
   },
   "file_extension": ".py",
   "mimetype": "text/x-python",
   "name": "python",
   "nbconvert_exporter": "python",
   "pygments_lexer": "ipython3",
   "version": "3.9.1"
  }
 },
 "nbformat": 4,
 "nbformat_minor": 5
}
