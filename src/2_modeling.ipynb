{
 "cells": [
  {
   "cell_type": "markdown",
   "id": "convertible-microwave",
   "metadata": {},
   "source": [
    "##### Goal: Write function using XGBoost to run model from start to finish"
   ]
  },
  {
   "cell_type": "markdown",
   "id": "about-manor",
   "metadata": {},
   "source": [
    "##### ***I am having environment issues, so not much has been done to this XGBoost repo yet***"
   ]
  },
  {
   "cell_type": "code",
   "execution_count": 1,
   "id": "female-valve",
   "metadata": {},
   "outputs": [],
   "source": [
    "import numpy as np\n",
    "import pandas as pd\n",
    "\n",
    "from sklearn.model_selection import train_test_split, cross_val_score, KFold #, GridSearchCV\n",
    "from sklearn.metrics import mean_squared_error, confusion_matrix\n",
    "\n",
    "# from sklearn.model_selection import train_test_split\n",
    "# from sklearn.model_selection import \n",
    "\n",
    "from xgboost import (\n",
    "    XGBClassifier,\n",
    "    XGBRegressor\n",
    ")"
   ]
  },
  {
   "cell_type": "code",
   "execution_count": 2,
   "id": "stretch-closing",
   "metadata": {},
   "outputs": [
    {
     "name": "stdout",
     "output_type": "stream",
     "text": [
      "<class 'pandas.core.frame.DataFrame'>\n",
      "RangeIndex: 9792 entries, 0 to 9791\n",
      "Data columns (total 16 columns):\n",
      " #   Column          Non-Null Count  Dtype  \n",
      "---  ------          --------------  -----  \n",
      " 0   fighter         9792 non-null   object \n",
      " 1   opp_fighter     9792 non-null   object \n",
      " 2   title_bout      9792 non-null   int64  \n",
      " 3   weight_class    9792 non-null   object \n",
      " 4   gender          9792 non-null   object \n",
      " 5   stance          9790 non-null   object \n",
      " 6   reach_cms       9792 non-null   float64\n",
      " 7   height_cms      9792 non-null   float64\n",
      " 8   weight_lbs      9792 non-null   int64  \n",
      " 9   age             9792 non-null   int64  \n",
      " 10  opp_stance      9790 non-null   object \n",
      " 11  opp_reach_cms   9792 non-null   float64\n",
      " 12  opp_height_cms  9792 non-null   float64\n",
      " 13  opp_weight_lbs  9792 non-null   int64  \n",
      " 14  opp_age         9792 non-null   int64  \n",
      " 15  winner          9792 non-null   int64  \n",
      "dtypes: float64(4), int64(6), object(6)\n",
      "memory usage: 1.2+ MB\n"
     ]
    }
   ],
   "source": [
    "df = pd.read_csv('../data/model_dataset.csv')\n",
    "df.info()"
   ]
  },
  {
   "cell_type": "code",
   "execution_count": 3,
   "id": "future-walnut",
   "metadata": {},
   "outputs": [],
   "source": [
    "features: list[str,...] = [\n",
    "#     'fighter',\n",
    "#     'opp_fighter',\n",
    "    'title_bout',\n",
    "#     'weight_class',\n",
    "#     'gender',\n",
    "#     'stance',\n",
    "    'reach_cms',\n",
    "    'height_cms',\n",
    "    'weight_lbs',\n",
    "    'age',\n",
    "#     'opp_stance',\n",
    "    'opp_reach_cms',\n",
    "    'opp_height_cms',\n",
    "    'opp_weight_lbs',\n",
    "    'opp_age',\n",
    "    'winner'\n",
    "]"
   ]
  },
  {
   "cell_type": "code",
   "execution_count": 4,
   "id": "configured-alcohol",
   "metadata": {},
   "outputs": [],
   "source": [
    "def run_model(df: pd.DataFrame, target: str, *args, **kwargs) -> None:\n",
    "    \n",
    "    features: list[str,...] = kwargs.get('features', [column for column in df.columns if column != target])\n",
    "    \n",
    "    X: pd.DataFrame = df[features]\n",
    "    y: pd.Series = df[target]\n",
    "    \n",
    "#     X = X transformed\n",
    "    \n",
    "    X_train, X_test, y_train, y_test = train_test_split(X, y, test_size=0.2, train_size=0.8, random_state=42)\n",
    "    \n",
    "    xgb = XGBClassifier()\n",
    "    \n",
    "    xgb.fit(X_train, y_train)\n",
    "    \n",
    "    \n",
    "    # Output model results\n",
    "    predictions = xgb.predict(X_test)\n",
    "    mse = mean_squared_error(y_test, predictions)\n",
    "    rmse = np.sqrt(mse)\n",
    "\n",
    "    print(f'\\nModel score for training data for {target}: {xgb.score(X_train, y_train):.4f}')\n",
    "    print(f'Model score for testing data for {target}: {xgb.score(X_test, y_test):.4f}')\n",
    "    print(f'\\nModel RMSE for {target}: {rmse:.2f}')\n",
    "    \n",
    "    \n",
    "    scores = cross_val_score(xgb, X_train, y_train, cv=5)\n",
    "    print(\"Mean cross-validation score: %.2f\" % scores.mean())\n",
    "\n",
    "    kfold = KFold(n_splits=10, shuffle=True)\n",
    "    kf_cv_scores = cross_val_score(xgb, X_train, y_train, cv=kfold )\n",
    "    print(\"K-fold CV average score: %.2f\" % kf_cv_scores.mean())\n",
    "\n",
    "    y_pred = xgb.predict(X_test)\n",
    "    cm = confusion_matrix(y_test,y_pred)\n",
    "    print(cm)\n",
    "#     print(f'Model NRMSE for {target}: {rmse/(predictions.max()-predictions.min()):.2f}\\n')\n",
    "    \n",
    "    return\n",
    "    \n",
    "    "
   ]
  },
  {
   "cell_type": "code",
   "execution_count": 5,
   "id": "stuck-trailer",
   "metadata": {},
   "outputs": [
    {
     "name": "stdout",
     "output_type": "stream",
     "text": [
      "\n",
      "Model score for training data for winner: 1.0000\n",
      "Model score for testing data for winner: 1.0000\n",
      "\n",
      "Model RMSE for winner: 0.00\n",
      "Mean cross-validation score: 1.00\n",
      "K-fold CV average score: 1.00\n",
      "[[991   0]\n",
      " [  0 968]]\n"
     ]
    }
   ],
   "source": [
    "run_model(df, 'winner', features=features)"
   ]
  },
  {
   "cell_type": "code",
   "execution_count": null,
   "id": "appropriate-means",
   "metadata": {},
   "outputs": [],
   "source": []
  }
 ],
 "metadata": {
  "kernelspec": {
   "display_name": "Python 3",
   "language": "python",
   "name": "python3"
  },
  "language_info": {
   "codemirror_mode": {
    "name": "ipython",
    "version": 3
   },
   "file_extension": ".py",
   "mimetype": "text/x-python",
   "name": "python",
   "nbconvert_exporter": "python",
   "pygments_lexer": "ipython3",
   "version": "3.9.1"
  }
 },
 "nbformat": 4,
 "nbformat_minor": 5
}
