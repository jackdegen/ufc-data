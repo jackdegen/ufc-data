{
 "cells": [
  {
   "cell_type": "markdown",
   "id": "terminal-office",
   "metadata": {},
   "source": [
    "##### Goal: Write function using XGBoost to run model from start to finish"
   ]
  },
  {
   "cell_type": "code",
   "execution_count": 1,
   "id": "raised-blend",
   "metadata": {},
   "outputs": [
    {
     "ename": "ModuleNotFoundError",
     "evalue": "No module named 'xgboost'",
     "output_type": "error",
     "traceback": [
      "\u001b[0;31m---------------------------------------------------------------------------\u001b[0m",
      "\u001b[0;31mModuleNotFoundError\u001b[0m                       Traceback (most recent call last)",
      "Cell \u001b[0;32mIn[1], line 7\u001b[0m\n\u001b[1;32m      4\u001b[0m \u001b[38;5;28;01mfrom\u001b[39;00m \u001b[38;5;21;01msklearn\u001b[39;00m\u001b[38;5;21;01m.\u001b[39;00m\u001b[38;5;21;01mmodel_selection\u001b[39;00m \u001b[38;5;28;01mimport\u001b[39;00m train_test_split \u001b[38;5;66;03m#, GridSearchCV\u001b[39;00m\n\u001b[1;32m      5\u001b[0m \u001b[38;5;28;01mfrom\u001b[39;00m \u001b[38;5;21;01msklearn\u001b[39;00m\u001b[38;5;21;01m.\u001b[39;00m\u001b[38;5;21;01mmetrics\u001b[39;00m \u001b[38;5;28;01mimport\u001b[39;00m mean_squared_error\n\u001b[0;32m----> 7\u001b[0m \u001b[38;5;28;01mfrom\u001b[39;00m \u001b[38;5;21;01mxgboost\u001b[39;00m \u001b[38;5;28;01mimport\u001b[39;00m (\n\u001b[1;32m      8\u001b[0m     XGBClassifier,\n\u001b[1;32m      9\u001b[0m \u001b[38;5;66;03m#     XGBRegressor\u001b[39;00m\n\u001b[1;32m     10\u001b[0m )\n",
      "\u001b[0;31mModuleNotFoundError\u001b[0m: No module named 'xgboost'"
     ]
    }
   ],
   "source": [
    "import numpy as np\n",
    "import pandas as pd\n",
    "\n",
    "from sklearn.model_selection import train_test_split #, GridSearchCV\n",
    "from sklearn.metrics import mean_squared_error\n",
    "\n",
    "from xgboost import (\n",
    "    XGBClassifier,\n",
    "#     XGBRegressor\n",
    ")"
   ]
  },
  {
   "cell_type": "code",
   "execution_count": null,
   "id": "neural-burke",
   "metadata": {},
   "outputs": [],
   "source": [
    "df = pd.read_csv('../data/model_dataset.csv')\n",
    "df.info()"
   ]
  },
  {
   "cell_type": "code",
   "execution_count": null,
   "id": "loose-scottish",
   "metadata": {},
   "outputs": [],
   "source": [
    "def run_model(df: pd.DataFrame, target: str, *args, **kwargs) -> None:\n",
    "    \n",
    "    features: list[str,...] = kwargs.get('features', [column for column in df.columns if column != target])\n",
    "    \n",
    "    X: pd.DataFrame = df[features]\n",
    "    y: pd.Series = df[target]\n",
    "    \n",
    "#     X = X transformed\n",
    "    \n",
    "    X_train, X_test, y_train, y_test = train_test_split(X, y, test_size=0.1, train_size=0.9, random_state=42)\n",
    "    \n",
    "    xgb = XGBClassifier()\n",
    "    \n",
    "    xgb.fit(X_train, y_train)\n",
    "    \n",
    "    \n",
    "    # Output model results\n",
    "    predictions = xgb.predict(X_test)\n",
    "    mse = mean_squared_error(y_test, predictions)\n",
    "    rmse = np.sqrt(mse)\n",
    "\n",
    "    print(f'\\nModel score for training data for {target}: {xgb.score(X_train, y_train):.4f}')\n",
    "    print(f'Model score for testing data for {target}: {xgb.score(X_test, y_test):.4f}')\n",
    "    print(f'\\nModel RMSE for {target}: {rmse:.2f}')\n",
    "#     print(f'Model NRMSE for {target}: {rmse/(predictions.max()-predictions.min()):.2f}\\n')\n",
    "    \n",
    "    return\n",
    "    \n",
    "    "
   ]
  }
 ],
 "metadata": {
  "kernelspec": {
   "display_name": "Python 3 (ipykernel)",
   "language": "python",
   "name": "python3"
  },
  "language_info": {
   "codemirror_mode": {
    "name": "ipython",
    "version": 3
   },
   "file_extension": ".py",
   "mimetype": "text/x-python",
   "name": "python",
   "nbconvert_exporter": "python",
   "pygments_lexer": "ipython3",
   "version": "3.11.3"
  }
 },
 "nbformat": 4,
 "nbformat_minor": 5
}
