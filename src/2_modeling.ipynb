{
 "cells": [
  {
   "cell_type": "markdown",
   "id": "competent-tunnel",
   "metadata": {},
   "source": [
    "##### Goal: Write function using XGBoost to run model from start to finish"
   ]
  },
  {
   "cell_type": "code",
   "execution_count": 1,
   "id": "indoor-display",
   "metadata": {},
   "outputs": [
    {
     "ename": "ModuleNotFoundError",
     "evalue": "No module named 'xgboost'",
     "output_type": "error",
     "traceback": [
      "\u001b[0;31m----------------------------------------------------------------\u001b[0m",
      "\u001b[0;31mModuleNotFoundError\u001b[0m            Traceback (most recent call last)",
      "\u001b[0;32m<ipython-input-1-a878f097d13e>\u001b[0m in \u001b[0;36m<module>\u001b[0;34m\u001b[0m\n\u001b[1;32m      5\u001b[0m \u001b[0;32mfrom\u001b[0m \u001b[0msklearn\u001b[0m\u001b[0;34m.\u001b[0m\u001b[0mmetrics\u001b[0m \u001b[0;32mimport\u001b[0m \u001b[0mmean_squared_error\u001b[0m\u001b[0;34m\u001b[0m\u001b[0;34m\u001b[0m\u001b[0m\n\u001b[1;32m      6\u001b[0m \u001b[0;34m\u001b[0m\u001b[0m\n\u001b[0;32m----> 7\u001b[0;31m from xgboost import (\n\u001b[0m\u001b[1;32m      8\u001b[0m     \u001b[0mXGBClassifier\u001b[0m\u001b[0;34m,\u001b[0m\u001b[0;34m\u001b[0m\u001b[0;34m\u001b[0m\u001b[0m\n\u001b[1;32m      9\u001b[0m \u001b[0;31m#     XGBRegressor\u001b[0m\u001b[0;34m\u001b[0m\u001b[0;34m\u001b[0m\u001b[0;34m\u001b[0m\u001b[0m\n",
      "\u001b[0;31mModuleNotFoundError\u001b[0m: No module named 'xgboost'"
     ]
    }
   ],
   "source": [
    "import numpy as np\n",
    "import pandas as pd\n",
    "\n",
    "from sklearn.model_selection import train_test_split #, GridSearchCV\n",
    "from sklearn.metrics import mean_squared_error\n",
    "\n",
    "from xgboost import (\n",
    "    XGBClassifier,\n",
    "#     XGBRegressor\n",
    ")"
   ]
  },
  {
   "cell_type": "code",
   "execution_count": null,
   "id": "answering-effectiveness",
   "metadata": {},
   "outputs": [],
   "source": [
    "df = pd.read_csv('../data/model_dataset.csv')\n",
    "df.info()"
   ]
  },
  {
   "cell_type": "code",
   "execution_count": null,
   "id": "signed-posting",
   "metadata": {},
   "outputs": [],
   "source": [
    "def output_model_results(\n",
    "    target,\n",
    "    xgb,\n",
    "    X_train,\n",
    "    X_test,\n",
    "    y_train,\n",
    "    y_test\n",
    ") -> None:\n",
    "    \n",
    "    predictions = xgb.predict(X_test)\n",
    "    mse = mean_squared_error(y_test, predictions)\n",
    "    rmse = np.sqrt(mse)\n",
    "\n",
    "    print(f'\\nModel score for training data for {target}: {xgb.score(X_train, y_train):.4f}')\n",
    "    print(f'Model score for testing data for {target}: {xgb.score(X_test, y_test):.4f}')\n",
    "    print(f'\\nModel RMSE for {target}: {rmse:.2f}')\n",
    "#     print(f'Model NRMSE for {target}: {rmse/(predictions.max()-predictions.min()):.2f}\\n')\n",
    "    \n",
    "    return"
   ]
  },
  {
   "cell_type": "code",
   "execution_count": null,
   "id": "broad-attitude",
   "metadata": {},
   "outputs": [],
   "source": [
    "def run_model(df: pd.DataFrame, target: str, *args, **kwargs) -> None:\n",
    "    \n",
    "    features: list[str,...] = kwargs.get('features', [column for column in df.columns if column != target])\n",
    "    \n",
    "    X: pd.DataFrame = df[features]\n",
    "    y: pd.Series = df[target]\n",
    "    \n",
    "#     X = X transformed\n",
    "    \n",
    "    X_train, X_test, y_train, y_test = train_test_split(X, y, test_size=0.1, train_size=0.9, random_state=42)\n",
    "    \n",
    "    xgb = XGBClassifier()\n",
    "    \n",
    "    xgb.fit(X_train, y_train)\n",
    "    \n",
    "    output_model_results(target, xgb, X_train, X_test, y_train, y_test)\n",
    "    \n",
    "    return\n",
    "    \n",
    "    "
   ]
  }
 ],
 "metadata": {
  "kernelspec": {
   "display_name": "Python 3",
   "language": "python",
   "name": "python3"
  },
  "language_info": {
   "codemirror_mode": {
    "name": "ipython",
    "version": 3
   },
   "file_extension": ".py",
   "mimetype": "text/x-python",
   "name": "python",
   "nbconvert_exporter": "python",
   "pygments_lexer": "ipython3",
   "version": "3.9.1"
  }
 },
 "nbformat": 4,
 "nbformat_minor": 5
}
