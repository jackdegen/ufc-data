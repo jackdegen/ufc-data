{
 "cells": [
  {
   "cell_type": "markdown",
   "id": "outer-pakistan",
   "metadata": {},
   "source": [
    "##### Goal: Write function using XGBoost to run model from start to finish"
   ]
  },
  {
   "cell_type": "code",
   "execution_count": 1,
   "id": "advance-flashing",
   "metadata": {},
   "outputs": [],
   "source": [
    "import numpy as np\n",
    "import pandas as pd\n",
    "\n",
    "from sklearn.model_selection import train_test_split, cross_val_score, KFold #, GridSearchCV\n",
    "from sklearn.metrics import (\n",
    "    accuracy_score,\n",
    "    confusion_matrix,\n",
    "    mean_squared_error \n",
    ")\n",
    "\n",
    "from sklearn.compose import ColumnTransformer\n",
    "from sklearn.preprocessing import (\n",
    "    MinMaxScaler,\n",
    "    Normalizer,\n",
    "    OneHotEncoder,\n",
    "    PolynomialFeatures,\n",
    "    StandardScaler\n",
    ")\n",
    "\n",
    "import xgboost as xgb"
   ]
  },
  {
   "cell_type": "code",
   "execution_count": 2,
   "id": "complimentary-witch",
   "metadata": {},
   "outputs": [
    {
     "name": "stdout",
     "output_type": "stream",
     "text": [
      "<class 'pandas.core.frame.DataFrame'>\n",
      "RangeIndex: 9792 entries, 0 to 9791\n",
      "Data columns (total 12 columns):\n",
      " #   Column           Non-Null Count  Dtype  \n",
      "---  ------           --------------  -----  \n",
      " 0   fighter          9792 non-null   object \n",
      " 1   opp_fighter      9792 non-null   object \n",
      " 2   title_bout       9792 non-null   int64  \n",
      " 3   weight_class     9792 non-null   object \n",
      " 4   gender           9792 non-null   object \n",
      " 5   stance           9790 non-null   object \n",
      " 6   opp_stance       9790 non-null   object \n",
      " 7   diff_reach_cms   9792 non-null   float64\n",
      " 8   diff_height_cms  9792 non-null   float64\n",
      " 9   diff_weight_lbs  9792 non-null   int64  \n",
      " 10  diff_age         9792 non-null   int64  \n",
      " 11  winner           9792 non-null   int64  \n",
      "dtypes: float64(2), int64(4), object(6)\n",
      "memory usage: 918.1+ KB\n"
     ]
    }
   ],
   "source": [
    "df = pd.read_csv('../data/model_dataset.csv')\n",
    "df.info()"
   ]
  },
  {
   "cell_type": "code",
   "execution_count": 3,
   "id": "proprietary-permission",
   "metadata": {},
   "outputs": [],
   "source": [
    "features_: list[str,...] = [\n",
    "#     'fighter',\n",
    "#     'opp_fighter',\n",
    "    'title_bout',\n",
    "    'weight_class',\n",
    "    'gender',\n",
    "    'stance',\n",
    "    'diff_reach_cms',\n",
    "    'diff_height_cms',\n",
    "    'diff_weight_lbs',\n",
    "    'diff_age',\n",
    "]\n",
    "\n",
    "target_: str = 'winner'"
   ]
  },
  {
   "cell_type": "code",
   "execution_count": 4,
   "id": "9d9a067c-8fce-422f-8cb1-904656de329d",
   "metadata": {},
   "outputs": [],
   "source": [
    "def parse_confusion_matrix(cm: np.ndarray):\n",
    "    \"\"\"\n",
    "    Confusion matrix has form:\n",
    "    \n",
    "    True Positive     False Negative\n",
    "    False Positive    True Negative\n",
    "    \n",
    "    \"\"\"\n",
    "\n",
    "    flatten = lambda nested_list: tuple([value for nested in nested_list for value in nested])    \n",
    "    true_positive, false_negative, false_positive, true_negative = flatten(cm.tolist())\n",
    "\n",
    "    return {\n",
    "        'Correctly predicted winner': true_positive,\n",
    "        'Incorrectly predicted winner': false_positive,\n",
    "        \n",
    "        'Incorrectly predicted loser': false_negative,\n",
    "        'Correctly predicted loser': true_negative\n",
    "    }"
   ]
  },
  {
   "cell_type": "code",
   "execution_count": 5,
   "id": "statutory-leone",
   "metadata": {},
   "outputs": [],
   "source": [
    "def run_model(df: pd.DataFrame, target: str, *args, **kwargs) -> None:\n",
    "\n",
    "    # By default, consider all columns of dataframe as features except for target variable\n",
    "    features: list[str,...] = kwargs.get('features', [column for column in df.columns if column != target])\n",
    "    \n",
    "    # Print model inputs and basic info to make sure running correctly\n",
    "    target_msg: str = f'Classification model to predict UFC {target}.'\n",
    "    features_msg: str = f'Input variables: {features}'\n",
    "    \n",
    "    print(*[target_msg, features_msg], sep='\\n')\n",
    "        \n",
    "    num_features: list[str,...] = [feature for feature in features if 'diff' in feature]\n",
    "    bin_features = ['title_bout']\n",
    "    str_features: list[str,...] = [ feature for feature in features if feature not in num_features+bin_features ]\n",
    "    \n",
    "   # Optimize binary integer types\n",
    "    for column in bin_features + [target]:\n",
    "        df[column] = df[column].astype('uint8')\n",
    "\n",
    "    # Check all features accounted for\n",
    "    assert(sum([len(num_features), len(bin_features), len(str_features)]) == len(features))\n",
    "    \n",
    "    \n",
    "    X: pd.DataFrame = df[features]\n",
    "    y: pd.Series = df[target]\n",
    "\n",
    "    # Column transformers\n",
    "    ct = ColumnTransformer(\n",
    "        transformers=[\n",
    "            ('oh-encode', OneHotEncoder(handle_unknown='ignore', sparse_output=False), str_features), # should not really be any unknowns, from info it seems as though one fight had issues with stance so just 'ignore' those 2 (2/9790 = 0.02% entries)\n",
    "            ('scale', StandardScaler(), num_features),\n",
    "            ('polynomial', PolynomialFeatures(include_bias=False), num_features)\n",
    "        ],\n",
    "        remainder='passthrough'\n",
    "    )\n",
    "    \n",
    "    \n",
    "    X_transformed = ct.fit_transform(X)\n",
    "    \n",
    "    X_train, X_test, y_train, y_test = train_test_split(X_transformed, y, test_size=0.2, train_size=0.8, random_state=42)\n",
    "\n",
    "    # Initialize classifification model\n",
    "    clf = xgb.XGBClassifier()\n",
    "\n",
    "    # Fit model to transformed data\n",
    "    clf.fit(X_train, y_train)\n",
    "    \n",
    "    \n",
    "    # Output model results\n",
    "    print(f'\\nModel score for training data for {target}: {clf.score(X_train, y_train):.3f}')\n",
    "    print(f'Model score for testing data for {target}: {clf.score(X_test, y_test):.3f}\\n') # --> returns identical result to sklearn.metrics.accuracy_score(y_test, clf.predict(X_test))\n",
    "\n",
    "    cv_scores = cross_val_score(clf, X_train, y_train, cv=5)\n",
    "    print(f'Mean cross-validation score: {cv_scores.mean():.3f}')\n",
    "\n",
    "    # Does almost the same as above but takes average of K-separate cross_validations --> ideally want pretty similar result\n",
    "    kfold = KFold(n_splits=10, shuffle=True)\n",
    "    kf_cv_scores = cross_val_score(clf, X_train, y_train, cv=kfold)\n",
    "    print(f'K-fold CV average score: {kf_cv_scores.mean():.3f}')\n",
    "\n",
    "    y_pred = clf.predict(X_test)\n",
    "    cm = confusion_matrix(y_test, y_pred)\n",
    "\n",
    "    print('\\nConfusion matrix results:')\n",
    "    print(parse_confusion_matrix(cm))\n",
    "    \n",
    "    return\n",
    "    \n",
    "    "
   ]
  },
  {
   "cell_type": "code",
   "execution_count": 6,
   "id": "e587ddf5-86d6-4617-a0ca-13f0726c83b7",
   "metadata": {},
   "outputs": [
    {
     "name": "stdout",
     "output_type": "stream",
     "text": [
      "Classification model to predict UFC winner.\n",
      "Input variables: ['title_bout', 'weight_class', 'gender', 'stance', 'diff_reach_cms', 'diff_height_cms', 'diff_weight_lbs', 'diff_age']\n",
      "\n",
      "Model score for training data for winner: 0.778\n",
      "Model score for testing data for winner: 0.533\n",
      "\n",
      "Mean cross-validation score: 0.524\n",
      "K-fold CV average score: 0.524\n",
      "\n",
      "Confusion matrix results:\n",
      "{'Correctly predicted winner': 537, 'Incorrectly predicted winner': 461, 'Incorrectly predicted loser': 454, 'Correctly predicted loser': 507}\n"
     ]
    }
   ],
   "source": [
    "run_model(df, target_, features=features_)"
   ]
  },
  {
   "cell_type": "code",
   "execution_count": null,
   "id": "7145f9e6-d962-4ff8-86d8-7e2f792ca9e6",
   "metadata": {},
   "outputs": [],
   "source": []
  }
 ],
 "metadata": {
  "kernelspec": {
   "display_name": "Python 3 (ipykernel)",
   "language": "python",
   "name": "python3"
  },
  "language_info": {
   "codemirror_mode": {
    "name": "ipython",
    "version": 3
   },
   "file_extension": ".py",
   "mimetype": "text/x-python",
   "name": "python",
   "nbconvert_exporter": "python",
   "pygments_lexer": "ipython3",
   "version": "3.11.3"
  }
 },
 "nbformat": 4,
 "nbformat_minor": 5
}
